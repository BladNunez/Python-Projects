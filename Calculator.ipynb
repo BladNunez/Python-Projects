{
 "cells": [
  {
   "cell_type": "markdown",
   "id": "4d433c82-8726-4dbc-b6cf-ff312da76064",
   "metadata": {},
   "source": [
    "# Calculator Project"
   ]
  },
  {
   "cell_type": "markdown",
   "id": "634f827e-343b-4bc8-a757-953692ddce44",
   "metadata": {},
   "source": [
    "## Steps \n",
    "- Create Functions ADD, SUBTRACT, DIVISION, MULTIPLICATION\n",
    "- Use User Input to prompt user to select which process they want and then ask for 2 numbers\n",
    "- Output the Answer\n",
    "- Use a while loop for the program to prompt them again if they want to continue from a list, if not they will enter # and exit program"
   ]
  },
  {
   "cell_type": "code",
   "execution_count": 63,
   "id": "4d26cd2f-38f7-4f38-b279-ec65ed72452b",
   "metadata": {},
   "outputs": [],
   "source": [
    "# Create Functions \n",
    "\n",
    "def ADD(number_one, number_two):\n",
    "    return number_one + number_two\n",
    "\n",
    "def SUBTRACT(number_one, number_two):\n",
    "    return number_one - number_two\n",
    "\n",
    "def MULTIPLICATION(number_one, number_two):\n",
    "    return number_one * number_two\n",
    "\n",
    "def DIVISION(number_one, number_two):\n",
    "    try:\n",
    "        result = number_one / number_two\n",
    "    except ZeroDivisionError:\n",
    "        print('Can not divide by zero!')\n",
    "    else:\n",
    "        return result\n",
    "    "
   ]
  },
  {
   "cell_type": "code",
   "execution_count": 66,
   "id": "e4499479-261b-4edf-985a-88bea31d9acf",
   "metadata": {},
   "outputs": [],
   "source": [
    "# User Input \n",
    "\n",
    "def CALCULATION():\n",
    "    # variable for while loop to continue calculating \n",
    "    continue_calculating = True\n",
    "\n",
    "    while continue_calculating != False:\n",
    "        print('Welcome to calculator! Choose operation from list below.')\n",
    "        print('1. Addition\\n2. Subtraction\\n3. Multiplication\\n4. Division\\n5. Exit Program\\n')\n",
    "    \n",
    "        try: \n",
    "           selection = int(input('Choose Operation: '))\n",
    "        except ValueError:\n",
    "           print('Error! You need to enter a number')\n",
    "           continue\n",
    "    \n",
    "        if selection == 1:\n",
    "                try:\n",
    "                    number_one = int(input('Enter 1st Number: '))\n",
    "                    number_two = int(input('Enter 2nd Number: '))\n",
    "                except ValueError:\n",
    "                    print('Error! You need to enter a number')\n",
    "                else:\n",
    "                    print('Answer: ' + str(ADD(number_one, number_two)) + '\\n')\n",
    "        elif selection == 2:\n",
    "                try:\n",
    "                    number_one = int(input('Enter 1st Number: '))\n",
    "                    number_two = int(input('Enter 2nd Number: '))\n",
    "                except ValueError:\n",
    "                    print('Error! You need to enter a number')\n",
    "                else:\n",
    "                    print('Answer: ' + str(SUBTRACT(number_one, number_two)) + '\\n')\n",
    "        elif selection == 3:\n",
    "                try:\n",
    "                    number_one = int(input('Enter 1st Number: '))\n",
    "                    number_two = int(input('Enter 2nd Number: '))\n",
    "                except ValueError:\n",
    "                    print('Error! You need to enter a number')\n",
    "                else:\n",
    "                     print('Answer: ' + str(MULTIPLICATION(number_one, number_two)) + '\\n')\n",
    "        elif selection == 4:\n",
    "                try:\n",
    "                    number_one = int(input('Enter 1st Number: '))\n",
    "                    number_two = int(input('Enter 2nd Number: '))\n",
    "                except ValueError:\n",
    "                    print('Error! You need to enter a number')\n",
    "                else:\n",
    "                    print('Answer: ' + str(DIVISION(number_one, number_two)) + '\\n')\n",
    "        elif selection == 5:\n",
    "            continue_calculating = False\n",
    "            print('Exiting calculator. Goodbye!')\n",
    "            break  # Use break to exit the loop immediately.\n",
    "    \n",
    "        \n",
    "    \n",
    "    \n",
    "\n"
   ]
  },
  {
   "cell_type": "code",
   "execution_count": 67,
   "id": "58db9451-6d1f-47ff-952b-76a9951cfd0a",
   "metadata": {},
   "outputs": [
    {
     "name": "stdout",
     "output_type": "stream",
     "text": [
      "Welcome to calculator! Choose operation from list below.\n",
      "1. Addition\n",
      "2. Subtraction\n",
      "3. Multiplication\n",
      "4. Division\n",
      "5. Exit Program\n",
      "\n"
     ]
    },
    {
     "name": "stdin",
     "output_type": "stream",
     "text": [
      "Choose Operation:  4\n",
      "Enter 1st Number:  4\n",
      "Enter 2nd Number:  2\n"
     ]
    },
    {
     "name": "stdout",
     "output_type": "stream",
     "text": [
      "Answer: 2.0\n",
      "\n",
      "Welcome to calculator! Choose operation from list below.\n",
      "1. Addition\n",
      "2. Subtraction\n",
      "3. Multiplication\n",
      "4. Division\n",
      "5. Exit Program\n",
      "\n"
     ]
    },
    {
     "name": "stdin",
     "output_type": "stream",
     "text": [
      "Choose Operation:  5\n"
     ]
    },
    {
     "name": "stdout",
     "output_type": "stream",
     "text": [
      "Exiting calculator. Goodbye!\n",
      "None\n"
     ]
    }
   ],
   "source": [
    "print(CALCULATION())"
   ]
  },
  {
   "cell_type": "code",
   "execution_count": null,
   "id": "66697494-ad43-471c-889b-7a5d20f50bcf",
   "metadata": {},
   "outputs": [],
   "source": []
  }
 ],
 "metadata": {
  "kernelspec": {
   "display_name": "Python 3 (ipykernel)",
   "language": "python",
   "name": "python3"
  },
  "language_info": {
   "codemirror_mode": {
    "name": "ipython",
    "version": 3
   },
   "file_extension": ".py",
   "mimetype": "text/x-python",
   "name": "python",
   "nbconvert_exporter": "python",
   "pygments_lexer": "ipython3",
   "version": "3.11.5"
  }
 },
 "nbformat": 4,
 "nbformat_minor": 5
}
