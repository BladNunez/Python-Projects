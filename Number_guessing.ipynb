{
 "cells": [
  {
   "cell_type": "markdown",
   "id": "99581212-bbfb-446b-9016-5e87782a974b",
   "metadata": {},
   "source": [
    "# Number Guessing Game"
   ]
  },
  {
   "cell_type": "markdown",
   "id": "77a954e7-a4ce-42a7-9203-f41eae33d3e9",
   "metadata": {},
   "source": [
    "### Script:\n",
    "Number Guessing Game where the user will try to guess the number the computer chooses. If they get the right number they win. If not the user will have a few guesses to try to get the number the computer chose with some hints if they should go higher or lower. At the end there will be a message to the user when they guess the correct number of tries they used to get the number."
   ]
  },
  {
   "cell_type": "code",
   "execution_count": 34,
   "id": "beef13f1-08d3-4e00-baf6-d61f7e5dd61b",
   "metadata": {},
   "outputs": [],
   "source": [
    "# import random library\n",
    "import random \n",
    "\n",
    "# play again variable so when the user wants to play after they guessed right or ran out of guesses\n",
    "play_again = True\n"
   ]
  },
  {
   "cell_type": "code",
   "execution_count": 35,
   "id": "eb2d16c7-b80c-410f-987f-dd3be0abc86b",
   "metadata": {},
   "outputs": [
    {
     "name": "stdin",
     "output_type": "stream",
     "text": [
      "Enter your Guess: 40\n"
     ]
    },
    {
     "name": "stdout",
     "output_type": "stream",
     "text": [
      "To Low! Try Again, You have 9 guesses left\n"
     ]
    },
    {
     "name": "stdin",
     "output_type": "stream",
     "text": [
      "Enter your Guess: 70\n"
     ]
    },
    {
     "name": "stdout",
     "output_type": "stream",
     "text": [
      "To Low! Try Again, You have 8 guesses left\n"
     ]
    },
    {
     "name": "stdin",
     "output_type": "stream",
     "text": [
      "Enter your Guess: 90\n"
     ]
    },
    {
     "name": "stdout",
     "output_type": "stream",
     "text": [
      "To Low! Try Again, You have 7 guesses left\n"
     ]
    },
    {
     "name": "stdin",
     "output_type": "stream",
     "text": [
      "Enter your Guess: 95\n"
     ]
    },
    {
     "name": "stdout",
     "output_type": "stream",
     "text": [
      "To Low! Try Again, You have 6 guesses left\n"
     ]
    },
    {
     "name": "stdin",
     "output_type": "stream",
     "text": [
      "Enter your Guess: 100\n"
     ]
    },
    {
     "name": "stdout",
     "output_type": "stream",
     "text": [
      "To High! Try Again, You have 5 guesses left\n"
     ]
    },
    {
     "name": "stdin",
     "output_type": "stream",
     "text": [
      "Enter your Guess: 99\n"
     ]
    },
    {
     "name": "stdout",
     "output_type": "stream",
     "text": [
      "To High! Try Again, You have 4 guesses left\n"
     ]
    },
    {
     "name": "stdin",
     "output_type": "stream",
     "text": [
      "Enter your Guess: 97\n"
     ]
    },
    {
     "name": "stdout",
     "output_type": "stream",
     "text": [
      "To Low! Try Again, You have 3 guesses left\n"
     ]
    },
    {
     "name": "stdin",
     "output_type": "stream",
     "text": [
      "Enter your Guess: 98\n"
     ]
    },
    {
     "name": "stdout",
     "output_type": "stream",
     "text": [
      "Congrats! You guessed right , You used 8 guesses\n"
     ]
    },
    {
     "name": "stdin",
     "output_type": "stream",
     "text": [
      "Do you want to play again? (yes/no):  yes\n"
     ]
    },
    {
     "name": "stdout",
     "output_type": "stream",
     "text": [
      "\n",
      "Starting a new game...\n"
     ]
    },
    {
     "name": "stdin",
     "output_type": "stream",
     "text": [
      "Enter your Guess: 78\n"
     ]
    },
    {
     "name": "stdout",
     "output_type": "stream",
     "text": [
      "To High! Try Again, You have 9 guesses left\n"
     ]
    },
    {
     "name": "stdin",
     "output_type": "stream",
     "text": [
      "Enter your Guess: 67\n"
     ]
    },
    {
     "name": "stdout",
     "output_type": "stream",
     "text": [
      "To High! Try Again, You have 8 guesses left\n"
     ]
    },
    {
     "name": "stdin",
     "output_type": "stream",
     "text": [
      "Enter your Guess: 50\n"
     ]
    },
    {
     "name": "stdout",
     "output_type": "stream",
     "text": [
      "To Low! Try Again, You have 7 guesses left\n"
     ]
    },
    {
     "name": "stdin",
     "output_type": "stream",
     "text": [
      "Enter your Guess: 55\n"
     ]
    },
    {
     "name": "stdout",
     "output_type": "stream",
     "text": [
      "To Low! Try Again, You have 6 guesses left\n"
     ]
    },
    {
     "name": "stdin",
     "output_type": "stream",
     "text": [
      "Enter your Guess: 60\n"
     ]
    },
    {
     "name": "stdout",
     "output_type": "stream",
     "text": [
      "To Low! Try Again, You have 5 guesses left\n"
     ]
    },
    {
     "name": "stdin",
     "output_type": "stream",
     "text": [
      "Enter your Guess: 65\n"
     ]
    },
    {
     "name": "stdout",
     "output_type": "stream",
     "text": [
      "To High! Try Again, You have 4 guesses left\n"
     ]
    },
    {
     "name": "stdin",
     "output_type": "stream",
     "text": [
      "Enter your Guess: 64\n"
     ]
    },
    {
     "name": "stdout",
     "output_type": "stream",
     "text": [
      "To High! Try Again, You have 3 guesses left\n"
     ]
    },
    {
     "name": "stdin",
     "output_type": "stream",
     "text": [
      "Enter your Guess: 63\n"
     ]
    },
    {
     "name": "stdout",
     "output_type": "stream",
     "text": [
      "Congrats! You guessed right , You used 8 guesses\n"
     ]
    },
    {
     "name": "stdin",
     "output_type": "stream",
     "text": [
      "Do you want to play again? (yes/no):  no\n"
     ]
    },
    {
     "name": "stdout",
     "output_type": "stream",
     "text": [
      "Game Ended, thank you for playing\n"
     ]
    }
   ],
   "source": [
    "while play_again:\n",
    "    computer_guess = random.randint(1,100) \n",
    "\n",
    "    # counter variable to keep track of how many attempts user takes to guess number\n",
    "    user_counter = 10\n",
    "    amount_of_guesses = 0\n",
    "    \n",
    "    # While loop to keep asking user to enter guess till they get it right or they run out of guesses\n",
    "    while user_guess != computer_guess and user_counter > 0:\n",
    "        user_guess = input('Enter your Guess:')\n",
    "        \n",
    "        try:\n",
    "            integer_value = int(user_guess) #Cast user guess to an integer\n",
    "            user_counter -= 1  #subtract one guess when user enters guess\n",
    "            amount_of_guesses += 1 #keep track of guesses by user\n",
    "    \n",
    "            if user_counter == 0:\n",
    "                 print('You did not guess the number within the allocated amount of guesses, you lose!')\n",
    "                 break  \n",
    "            elif integer_value > computer_guess:\n",
    "                print('To High! Try Again, You have ' + str(user_counter) + ' guesses left')\n",
    "                continue \n",
    "            elif integer_value < computer_guess:\n",
    "                print('To Low! Try Again, You have ' + str(user_counter) + ' guesses left')\n",
    "                continue \n",
    "            else: \n",
    "               print('Congrats! You guessed right , You used ' + str(amount_of_guesses) + ' guesses')\n",
    "               break\n",
    "            \n",
    "         # if user enters something other then integer they get warning and prompted again\n",
    "        except ValueError:\n",
    "            print('Please enter an integer only')\n",
    "            continue\n",
    "\n",
    "\n",
    "    while True:\n",
    "        choice = input(\"Do you want to play again? (yes/no): \").lower()\n",
    "        if choice == 'no':\n",
    "            play_again = False # Set the outer loop control variable to False\n",
    "            break # Exit this inner loop for the choice\n",
    "        elif choice == 'yes':\n",
    "            print(\"\\nStarting a new game...\")\n",
    "            break # Exit this inner loop for the choice and continue the outer loop\n",
    "        else:\n",
    "            print(\"Invalid response. Please type 'yes' or 'no'.\\n\")\n",
    "    \n",
    "print(\"Game Ended, thank you for playing\")\n"
   ]
  },
  {
   "cell_type": "code",
   "execution_count": null,
   "id": "ecfab789-7d59-4337-a4e6-792e6e1b1101",
   "metadata": {},
   "outputs": [],
   "source": []
  }
 ],
 "metadata": {
  "kernelspec": {
   "display_name": "Python 3 (ipykernel)",
   "language": "python",
   "name": "python3"
  },
  "language_info": {
   "codemirror_mode": {
    "name": "ipython",
    "version": 3
   },
   "file_extension": ".py",
   "mimetype": "text/x-python",
   "name": "python",
   "nbconvert_exporter": "python",
   "pygments_lexer": "ipython3",
   "version": "3.11.5"
  }
 },
 "nbformat": 4,
 "nbformat_minor": 5
}
